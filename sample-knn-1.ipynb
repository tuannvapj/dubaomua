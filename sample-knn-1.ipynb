{
 "cells": [
  {
   "cell_type": "markdown",
   "metadata": {},
   "source": [
    "# Sử dụng k-nearest neighbors để xác định trạng thái mưa/không mưa dựa trên dữ liệu quan trắc\n",
    "## Data\n",
    "* [Truy cập dữ liệu thông qua API](http://achipvn.com/hocphp/thi/AI/data_web/data4_web.php?tram=quan9&tg=2020-11-01&sl=100&fbclid=IwAR2qYPS3qZq-YNElcKhZrRz54qOdbWxKWV9nQgJeHlU0xOFmoe6o-vBKX1Q)\n",
    "* Trong data gồm các yếu tố: Nhiệt độ, Độ ẩm, Gió, Bức xạ\n",
    "\n",
    "## Khái niệm KNN\n",
    "Là thuật toán đơn giản để triển khai Supervised machine learning algorithm, được sử dụng để giải quyết các bài toán phân loại(classification) và hồi quy (regression).\n",
    "Nhận vào một tập features (X) và tìm ra output (Y) phù hợp (label), dựa trên tập dữ liệu samples.\n",
    "\n",
    "## [scikit-learn](https://scikit-learn.org/stable/)\n",
    "* Bộ thư việc về machine learning\n",
    "* Open source\n",
    "* Hỗ trợ các models supervised and unsupervised learning."
   ]
  },
  {
   "cell_type": "code",
   "execution_count": 1,
   "metadata": {},
   "outputs": [],
   "source": [
    "%matplotlib inline\n",
    "import pandas as pd\n",
    "import numpy as np"
   ]
  },
  {
   "cell_type": "markdown",
   "metadata": {},
   "source": [
    "## Đọc dữ liệu từ csv file"
   ]
  },
  {
   "cell_type": "code",
   "execution_count": 2,
   "metadata": {},
   "outputs": [],
   "source": [
    "csvData = \"data-1\""
   ]
  },
  {
   "cell_type": "code",
   "execution_count": 3,
   "metadata": {},
   "outputs": [],
   "source": [
    "df = pd.read_csv(csvData, sep=',', names=['times','nhiet','am','gio','bucxa','mua'], skiprows=1)"
   ]
  },
  {
   "cell_type": "markdown",
   "metadata": {},
   "source": [
    "## Xóa cột times trong data frames, hiện tại chưa sử dụng thông tin từ cột này"
   ]
  },
  {
   "cell_type": "code",
   "execution_count": 4,
   "metadata": {},
   "outputs": [
    {
     "data": {
      "text/html": [
       "<div>\n",
       "<style scoped>\n",
       "    .dataframe tbody tr th:only-of-type {\n",
       "        vertical-align: middle;\n",
       "    }\n",
       "\n",
       "    .dataframe tbody tr th {\n",
       "        vertical-align: top;\n",
       "    }\n",
       "\n",
       "    .dataframe thead th {\n",
       "        text-align: right;\n",
       "    }\n",
       "</style>\n",
       "<table border=\"1\" class=\"dataframe\">\n",
       "  <thead>\n",
       "    <tr style=\"text-align: right;\">\n",
       "      <th></th>\n",
       "      <th>nhiet</th>\n",
       "      <th>am</th>\n",
       "      <th>gio</th>\n",
       "      <th>bucxa</th>\n",
       "      <th>mua</th>\n",
       "    </tr>\n",
       "  </thead>\n",
       "  <tbody>\n",
       "    <tr>\n",
       "      <th>0</th>\n",
       "      <td>27.5</td>\n",
       "      <td>86.0</td>\n",
       "      <td>1.1</td>\n",
       "      <td>30.012</td>\n",
       "      <td>0</td>\n",
       "    </tr>\n",
       "    <tr>\n",
       "      <th>1</th>\n",
       "      <td>27.5</td>\n",
       "      <td>86.0</td>\n",
       "      <td>0.4</td>\n",
       "      <td>30.015</td>\n",
       "      <td>0</td>\n",
       "    </tr>\n",
       "    <tr>\n",
       "      <th>2</th>\n",
       "      <td>27.5</td>\n",
       "      <td>86.0</td>\n",
       "      <td>0.7</td>\n",
       "      <td>30.018</td>\n",
       "      <td>0</td>\n",
       "    </tr>\n",
       "    <tr>\n",
       "      <th>3</th>\n",
       "      <td>27.5</td>\n",
       "      <td>86.0</td>\n",
       "      <td>0.9</td>\n",
       "      <td>30.018</td>\n",
       "      <td>0</td>\n",
       "    </tr>\n",
       "    <tr>\n",
       "      <th>4</th>\n",
       "      <td>27.7</td>\n",
       "      <td>86.0</td>\n",
       "      <td>0.7</td>\n",
       "      <td>30.012</td>\n",
       "      <td>0</td>\n",
       "    </tr>\n",
       "  </tbody>\n",
       "</table>\n",
       "</div>"
      ],
      "text/plain": [
       "   nhiet    am  gio   bucxa  mua\n",
       "0   27.5  86.0  1.1  30.012    0\n",
       "1   27.5  86.0  0.4  30.015    0\n",
       "2   27.5  86.0  0.7  30.018    0\n",
       "3   27.5  86.0  0.9  30.018    0\n",
       "4   27.7  86.0  0.7  30.012    0"
      ]
     },
     "execution_count": 4,
     "metadata": {},
     "output_type": "execute_result"
    }
   ],
   "source": [
    "del df['times']\n",
    "df.head()"
   ]
  },
  {
   "cell_type": "markdown",
   "metadata": {},
   "source": [
    "## Chuyển đổi các giá trị kiểu string sang kiểu số"
   ]
  },
  {
   "cell_type": "code",
   "execution_count": 5,
   "metadata": {},
   "outputs": [
    {
     "data": {
      "text/html": [
       "<div>\n",
       "<style scoped>\n",
       "    .dataframe tbody tr th:only-of-type {\n",
       "        vertical-align: middle;\n",
       "    }\n",
       "\n",
       "    .dataframe tbody tr th {\n",
       "        vertical-align: top;\n",
       "    }\n",
       "\n",
       "    .dataframe thead th {\n",
       "        text-align: right;\n",
       "    }\n",
       "</style>\n",
       "<table border=\"1\" class=\"dataframe\">\n",
       "  <thead>\n",
       "    <tr style=\"text-align: right;\">\n",
       "      <th></th>\n",
       "      <th>nhiet</th>\n",
       "      <th>am</th>\n",
       "      <th>gio</th>\n",
       "      <th>bucxa</th>\n",
       "      <th>mua</th>\n",
       "    </tr>\n",
       "  </thead>\n",
       "  <tbody>\n",
       "    <tr>\n",
       "      <th>0</th>\n",
       "      <td>27.5</td>\n",
       "      <td>86.0</td>\n",
       "      <td>1.1</td>\n",
       "      <td>30.012</td>\n",
       "      <td>0</td>\n",
       "    </tr>\n",
       "    <tr>\n",
       "      <th>1</th>\n",
       "      <td>27.5</td>\n",
       "      <td>86.0</td>\n",
       "      <td>0.4</td>\n",
       "      <td>30.015</td>\n",
       "      <td>0</td>\n",
       "    </tr>\n",
       "    <tr>\n",
       "      <th>2</th>\n",
       "      <td>27.5</td>\n",
       "      <td>86.0</td>\n",
       "      <td>0.7</td>\n",
       "      <td>30.018</td>\n",
       "      <td>0</td>\n",
       "    </tr>\n",
       "    <tr>\n",
       "      <th>3</th>\n",
       "      <td>27.5</td>\n",
       "      <td>86.0</td>\n",
       "      <td>0.9</td>\n",
       "      <td>30.018</td>\n",
       "      <td>0</td>\n",
       "    </tr>\n",
       "    <tr>\n",
       "      <th>4</th>\n",
       "      <td>27.7</td>\n",
       "      <td>86.0</td>\n",
       "      <td>0.7</td>\n",
       "      <td>30.012</td>\n",
       "      <td>0</td>\n",
       "    </tr>\n",
       "    <tr>\n",
       "      <th>...</th>\n",
       "      <td>...</td>\n",
       "      <td>...</td>\n",
       "      <td>...</td>\n",
       "      <td>...</td>\n",
       "      <td>...</td>\n",
       "    </tr>\n",
       "    <tr>\n",
       "      <th>31120</th>\n",
       "      <td>35.4</td>\n",
       "      <td>56.0</td>\n",
       "      <td>1.1</td>\n",
       "      <td>29.926</td>\n",
       "      <td>0</td>\n",
       "    </tr>\n",
       "    <tr>\n",
       "      <th>31121</th>\n",
       "      <td>34.8</td>\n",
       "      <td>58.0</td>\n",
       "      <td>0.7</td>\n",
       "      <td>29.929</td>\n",
       "      <td>0</td>\n",
       "    </tr>\n",
       "    <tr>\n",
       "      <th>31122</th>\n",
       "      <td>35.6</td>\n",
       "      <td>56.0</td>\n",
       "      <td>1.3</td>\n",
       "      <td>29.926</td>\n",
       "      <td>0</td>\n",
       "    </tr>\n",
       "    <tr>\n",
       "      <th>31123</th>\n",
       "      <td>34.4</td>\n",
       "      <td>59.0</td>\n",
       "      <td>0.4</td>\n",
       "      <td>29.929</td>\n",
       "      <td>0</td>\n",
       "    </tr>\n",
       "    <tr>\n",
       "      <th>31124</th>\n",
       "      <td>34.4</td>\n",
       "      <td>60.0</td>\n",
       "      <td>3.4</td>\n",
       "      <td>29.926</td>\n",
       "      <td>0</td>\n",
       "    </tr>\n",
       "  </tbody>\n",
       "</table>\n",
       "<p>31125 rows × 5 columns</p>\n",
       "</div>"
      ],
      "text/plain": [
       "       nhiet    am  gio   bucxa  mua\n",
       "0       27.5  86.0  1.1  30.012    0\n",
       "1       27.5  86.0  0.4  30.015    0\n",
       "2       27.5  86.0  0.7  30.018    0\n",
       "3       27.5  86.0  0.9  30.018    0\n",
       "4       27.7  86.0  0.7  30.012    0\n",
       "...      ...   ...  ...     ...  ...\n",
       "31120   35.4  56.0  1.1  29.926    0\n",
       "31121   34.8  58.0  0.7  29.929    0\n",
       "31122   35.6  56.0  1.3  29.926    0\n",
       "31123   34.4  59.0  0.4  29.929    0\n",
       "31124   34.4  60.0  3.4  29.926    0\n",
       "\n",
       "[31125 rows x 5 columns]"
      ]
     },
     "execution_count": 5,
     "metadata": {},
     "output_type": "execute_result"
    }
   ],
   "source": [
    "df.astype({'nhiet':np.float, 'am':np.float, 'gio':np.float, 'bucxa':np.float, 'mua':np.short})"
   ]
  },
  {
   "cell_type": "code",
   "execution_count": 6,
   "metadata": {},
   "outputs": [
    {
     "name": "stdout",
     "output_type": "stream",
     "text": [
      "max nhiet:  39.0\n",
      "min nhiet:  22.8\n"
     ]
    }
   ],
   "source": [
    "print('max nhiet: ',df['nhiet'].max())\n",
    "print('min nhiet: ',df['nhiet'].min())"
   ]
  },
  {
   "cell_type": "markdown",
   "metadata": {},
   "source": [
    "## Xóa các dòng dữ liệu giống nhau trong data frame"
   ]
  },
  {
   "cell_type": "code",
   "execution_count": 7,
   "metadata": {},
   "outputs": [
    {
     "data": {
      "text/html": [
       "<div>\n",
       "<style scoped>\n",
       "    .dataframe tbody tr th:only-of-type {\n",
       "        vertical-align: middle;\n",
       "    }\n",
       "\n",
       "    .dataframe tbody tr th {\n",
       "        vertical-align: top;\n",
       "    }\n",
       "\n",
       "    .dataframe thead th {\n",
       "        text-align: right;\n",
       "    }\n",
       "</style>\n",
       "<table border=\"1\" class=\"dataframe\">\n",
       "  <thead>\n",
       "    <tr style=\"text-align: right;\">\n",
       "      <th></th>\n",
       "      <th>nhiet</th>\n",
       "      <th>am</th>\n",
       "      <th>gio</th>\n",
       "      <th>bucxa</th>\n",
       "      <th>mua</th>\n",
       "    </tr>\n",
       "  </thead>\n",
       "  <tbody>\n",
       "    <tr>\n",
       "      <th>0</th>\n",
       "      <td>27.5</td>\n",
       "      <td>86.0</td>\n",
       "      <td>1.1</td>\n",
       "      <td>30.012</td>\n",
       "      <td>0</td>\n",
       "    </tr>\n",
       "    <tr>\n",
       "      <th>1</th>\n",
       "      <td>27.5</td>\n",
       "      <td>86.0</td>\n",
       "      <td>0.4</td>\n",
       "      <td>30.015</td>\n",
       "      <td>0</td>\n",
       "    </tr>\n",
       "    <tr>\n",
       "      <th>2</th>\n",
       "      <td>27.5</td>\n",
       "      <td>86.0</td>\n",
       "      <td>0.7</td>\n",
       "      <td>30.018</td>\n",
       "      <td>0</td>\n",
       "    </tr>\n",
       "    <tr>\n",
       "      <th>3</th>\n",
       "      <td>27.5</td>\n",
       "      <td>86.0</td>\n",
       "      <td>0.9</td>\n",
       "      <td>30.018</td>\n",
       "      <td>0</td>\n",
       "    </tr>\n",
       "    <tr>\n",
       "      <th>4</th>\n",
       "      <td>27.7</td>\n",
       "      <td>86.0</td>\n",
       "      <td>0.7</td>\n",
       "      <td>30.012</td>\n",
       "      <td>0</td>\n",
       "    </tr>\n",
       "  </tbody>\n",
       "</table>\n",
       "</div>"
      ],
      "text/plain": [
       "   nhiet    am  gio   bucxa  mua\n",
       "0   27.5  86.0  1.1  30.012    0\n",
       "1   27.5  86.0  0.4  30.015    0\n",
       "2   27.5  86.0  0.7  30.018    0\n",
       "3   27.5  86.0  0.9  30.018    0\n",
       "4   27.7  86.0  0.7  30.012    0"
      ]
     },
     "execution_count": 7,
     "metadata": {},
     "output_type": "execute_result"
    }
   ],
   "source": [
    "dfNotDuplicate = df.drop_duplicates()\n",
    "dfNotDuplicate.head()"
   ]
  },
  {
   "cell_type": "markdown",
   "metadata": {},
   "source": [
    "## Import các bộ thư việc matplotlib và sklearn"
   ]
  },
  {
   "cell_type": "code",
   "execution_count": 8,
   "metadata": {},
   "outputs": [],
   "source": [
    "import matplotlib.pyplot as plt\n",
    "from sklearn.model_selection import train_test_split"
   ]
  },
  {
   "cell_type": "markdown",
   "metadata": {},
   "source": [
    "## Tạo ra các tập dữ liệu features(X) và result (Y)"
   ]
  },
  {
   "cell_type": "code",
   "execution_count": 9,
   "metadata": {},
   "outputs": [],
   "source": [
    "X = dfNotDuplicate[['nhiet','am','gio','bucxa']]\n",
    "Y = dfNotDuplicate['mua']"
   ]
  },
  {
   "cell_type": "markdown",
   "metadata": {},
   "source": [
    "## Sử dụng hàm train_test_split của bộ thư viện sklearn để chia các tập dữ liệu X và Y thành các tập dữ liệu để trai và test"
   ]
  },
  {
   "cell_type": "code",
   "execution_count": 10,
   "metadata": {},
   "outputs": [],
   "source": [
    "x_train, x_test, y_train, y_test = train_test_split(X, Y, random_state=0)"
   ]
  },
  {
   "cell_type": "code",
   "execution_count": 11,
   "metadata": {},
   "outputs": [
    {
     "name": "stdout",
     "output_type": "stream",
     "text": [
      "y_train mua:  117\n",
      "y_test mua:  28\n"
     ]
    }
   ],
   "source": [
    "print('y_train mua: ', len(y_train[y_train == 1]))\n",
    "print('y_test mua: ', len(y_test[y_test == 1]))"
   ]
  },
  {
   "cell_type": "markdown",
   "metadata": {},
   "source": [
    "## Import model KNN"
   ]
  },
  {
   "cell_type": "code",
   "execution_count": 12,
   "metadata": {},
   "outputs": [],
   "source": [
    "from sklearn.neighbors import KNeighborsClassifier"
   ]
  },
  {
   "cell_type": "code",
   "execution_count": 13,
   "metadata": {},
   "outputs": [],
   "source": [
    "knn = KNeighborsClassifier(n_neighbors=5)"
   ]
  },
  {
   "cell_type": "markdown",
   "metadata": {},
   "source": [
    "## Training với tập dữ liệu train"
   ]
  },
  {
   "cell_type": "code",
   "execution_count": 14,
   "metadata": {},
   "outputs": [
    {
     "data": {
      "text/plain": [
       "KNeighborsClassifier(algorithm='auto', leaf_size=30, metric='minkowski',\n",
       "           metric_params=None, n_jobs=None, n_neighbors=5, p=2,\n",
       "           weights='uniform')"
      ]
     },
     "execution_count": 14,
     "metadata": {},
     "output_type": "execute_result"
    }
   ],
   "source": [
    "knn.fit(x_train, y_train)"
   ]
  },
  {
   "cell_type": "markdown",
   "metadata": {},
   "source": [
    "## Hàm để xem accuracy (độ chính xác) của model ứng với số k =5"
   ]
  },
  {
   "cell_type": "code",
   "execution_count": 15,
   "metadata": {},
   "outputs": [
    {
     "data": {
      "text/plain": [
       "0.9947419399474194"
      ]
     },
     "execution_count": 15,
     "metadata": {},
     "output_type": "execute_result"
    }
   ],
   "source": [
    "knn.score(x_train, y_train)"
   ]
  },
  {
   "cell_type": "code",
   "execution_count": 16,
   "metadata": {},
   "outputs": [
    {
     "data": {
      "text/plain": [
       "0.9957111234089652"
      ]
     },
     "execution_count": 16,
     "metadata": {},
     "output_type": "execute_result"
    }
   ],
   "source": [
    "knn.score(x_test, y_test)"
   ]
  },
  {
   "cell_type": "markdown",
   "metadata": {},
   "source": [
    "## Sử dụng model mới train để dự báo"
   ]
  },
  {
   "cell_type": "code",
   "execution_count": 17,
   "metadata": {},
   "outputs": [
    {
     "data": {
      "text/plain": [
       "array([0])"
      ]
     },
     "execution_count": 17,
     "metadata": {},
     "output_type": "execute_result"
    }
   ],
   "source": [
    "knn.predict([[24.5,83.0,0.70,29.950]])"
   ]
  },
  {
   "cell_type": "markdown",
   "metadata": {},
   "source": [
    "## Phân tích và đánh giá model với các số k khác nhau"
   ]
  },
  {
   "cell_type": "code",
   "execution_count": 18,
   "metadata": {},
   "outputs": [],
   "source": [
    "training_accuracy = []\n",
    "test_accuracy = []\n",
    "k_range = range(1,31)    "
   ]
  },
  {
   "cell_type": "code",
   "execution_count": 19,
   "metadata": {},
   "outputs": [],
   "source": [
    "for i in k_range:\n",
    "    knn = KNeighborsClassifier(n_neighbors=i)\n",
    "    knn.fit(x_train, y_train)\n",
    "    training_accuracy.append(knn.score(x_train, y_train))\n",
    "    test_accuracy.append(knn.score(x_test, y_test))"
   ]
  },
  {
   "cell_type": "markdown",
   "metadata": {},
   "source": [
    "## Hiển thị biểu đồ, trực qua hóa kết quả training với các số k khác nhau"
   ]
  },
  {
   "cell_type": "code",
   "execution_count": 20,
   "metadata": {},
   "outputs": [
    {
     "data": {
      "image/png": "[encoded data removed]",
      "text/plain": [
       "<Figure size 432x288 with 1 Axes>"
      ]
     },
     "metadata": {
      "needs_background": "light"
     },
     "output_type": "display_data"
    }
   ],
   "source": [
    "plt.figure()\n",
    "plt.plot(k_range, training_accuracy, label='Training Accuarcy')\n",
    "plt.plot(k_range, test_accuracy, label='Test Accuarcy')\n",
    "plt.title('Training Accuracy vs Test Accuracy')\n",
    "plt.xlabel('n_neighbors')\n",
    "plt.ylabel('Accuracy')\n",
    "plt.legend(loc='best')\n",
    "plt.savefig('Training_Accuarcy.png')\n",
    "plt.show()"
   ]
  },
  {
   "cell_type": "markdown",
   "metadata": {},
   "source": [
    "Kết luận:\n",
    "* với k = 1 thì accuracy của training và test lệch nhau\n",
    "* với k từ 2 đến 4 thì accuracy của training và test gần bằng nhau. Số k phù hợp với model và data\n",
    "* với k > 4 thì lệch nhau và ổn định"
   ]
  },
  {
   "cell_type": "code",
   "execution_count": null,
   "metadata": {},
   "outputs": [],
   "source": []
  }
 ],
 "metadata": {
  "kernelspec": {
   "display_name": "Python",
   "language": "python",
   "name": "conda-env-python-py"
  },
  "language_info": {
   "codemirror_mode": {
    "name": "ipython",
    "version": 3
   },
   "file_extension": ".py",
   "mimetype": "text/x-python",
   "name": "python",
   "nbconvert_exporter": "python",
   "pygments_lexer": "ipython3",
   "version": "3.6.11"
  }
 },
 "nbformat": 4,
 "nbformat_minor": 4
}
